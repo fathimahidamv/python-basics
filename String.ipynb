{
  "nbformat": 4,
  "nbformat_minor": 0,
  "metadata": {
    "colab": {
      "provenance": [],
      "authorship_tag": "ABX9TyODZSrXSXPzKVyyriem+kgQ",
      "include_colab_link": true
    },
    "kernelspec": {
      "name": "python3",
      "display_name": "Python 3"
    },
    "language_info": {
      "name": "python"
    }
  },
  "cells": [
    {
      "cell_type": "markdown",
      "metadata": {
        "id": "view-in-github",
        "colab_type": "text"
      },
      "source": [
        "<a href=\"https://colab.research.google.com/github/fathimahidamv/python-basics/blob/main/String.ipynb\" target=\"_parent\"><img src=\"https://colab.research.google.com/assets/colab-badge.svg\" alt=\"Open In Colab\"/></a>"
      ]
    },
    {
      "cell_type": "code",
      "execution_count": null,
      "metadata": {
        "id": "OCEqU0ZW86mj"
      },
      "outputs": [],
      "source": [
        "str=\"hello world\""
      ]
    },
    {
      "cell_type": "code",
      "source": [
        "str"
      ],
      "metadata": {
        "colab": {
          "base_uri": "https://localhost:8080/",
          "height": 36
        },
        "id": "kJiMwk_Y9DwQ",
        "outputId": "4bd1ab40-a23a-4eb4-968d-f59e53fe4ca2"
      },
      "execution_count": null,
      "outputs": [
        {
          "output_type": "execute_result",
          "data": {
            "text/plain": [
              "'hello world'"
            ],
            "application/vnd.google.colaboratory.intrinsic+json": {
              "type": "string"
            }
          },
          "metadata": {},
          "execution_count": 2
        }
      ]
    },
    {
      "cell_type": "markdown",
      "source": [
        "To print the string"
      ],
      "metadata": {
        "id": "o5h2nZqp-IQT"
      }
    },
    {
      "cell_type": "code",
      "source": [
        "\n",
        "print(len(str))\n",
        "#or\n",
        "len(str)"
      ],
      "metadata": {
        "colab": {
          "base_uri": "https://localhost:8080/"
        },
        "id": "5Rirx77G9EoZ",
        "outputId": "e2f15863-b169-4c76-fdad-24dbcf2863e5"
      },
      "execution_count": null,
      "outputs": [
        {
          "output_type": "stream",
          "name": "stdout",
          "text": [
            "11\n"
          ]
        },
        {
          "output_type": "execute_result",
          "data": {
            "text/plain": [
              "11"
            ]
          },
          "metadata": {},
          "execution_count": 51
        }
      ]
    },
    {
      "cell_type": "markdown",
      "source": [
        "To find the length of string"
      ],
      "metadata": {
        "id": "fatT81M4-Y5I"
      }
    },
    {
      "cell_type": "code",
      "source": [
        "str.capitalize()"
      ],
      "metadata": {
        "colab": {
          "base_uri": "https://localhost:8080/",
          "height": 36
        },
        "id": "b2o72GKU9PC0",
        "outputId": "59f72b8d-45b3-4b76-be6b-505bd1659684"
      },
      "execution_count": null,
      "outputs": [
        {
          "output_type": "execute_result",
          "data": {
            "text/plain": [
              "'Hello world'"
            ],
            "application/vnd.google.colaboratory.intrinsic+json": {
              "type": "string"
            }
          },
          "metadata": {},
          "execution_count": 5
        }
      ]
    },
    {
      "cell_type": "markdown",
      "source": [
        "To capitalize the first letter"
      ],
      "metadata": {
        "id": "TPx5wfvx-hb_"
      }
    },
    {
      "cell_type": "code",
      "source": [
        "str.title()"
      ],
      "metadata": {
        "colab": {
          "base_uri": "https://localhost:8080/",
          "height": 36
        },
        "id": "DauZJin2920W",
        "outputId": "afa4f018-9688-4c7d-9de7-5a9d14be4a61"
      },
      "execution_count": null,
      "outputs": [
        {
          "output_type": "execute_result",
          "data": {
            "text/plain": [
              "'Hello World'"
            ],
            "application/vnd.google.colaboratory.intrinsic+json": {
              "type": "string"
            }
          },
          "metadata": {},
          "execution_count": 6
        }
      ]
    },
    {
      "cell_type": "markdown",
      "source": [
        "To capitalize the first letter in all words"
      ],
      "metadata": {
        "id": "rb68qkrv-nuY"
      }
    },
    {
      "cell_type": "code",
      "source": [
        "str.upper()"
      ],
      "metadata": {
        "colab": {
          "base_uri": "https://localhost:8080/",
          "height": 36
        },
        "id": "emqIHmxG98gb",
        "outputId": "58b46748-887f-440a-f4a3-0f55ac9f9469"
      },
      "execution_count": null,
      "outputs": [
        {
          "output_type": "execute_result",
          "data": {
            "text/plain": [
              "'HELLO WORLD'"
            ],
            "application/vnd.google.colaboratory.intrinsic+json": {
              "type": "string"
            }
          },
          "metadata": {},
          "execution_count": 7
        }
      ]
    },
    {
      "cell_type": "markdown",
      "source": [
        "To capitalize the whole string"
      ],
      "metadata": {
        "id": "1rF-mw9B-vBY"
      }
    },
    {
      "cell_type": "code",
      "source": [
        "str.lower()"
      ],
      "metadata": {
        "colab": {
          "base_uri": "https://localhost:8080/",
          "height": 36
        },
        "id": "JzJNnHqX-DRL",
        "outputId": "c2472c48-12f8-482e-f7b3-214b25fbc915"
      },
      "execution_count": null,
      "outputs": [
        {
          "output_type": "execute_result",
          "data": {
            "text/plain": [
              "'hello world'"
            ],
            "application/vnd.google.colaboratory.intrinsic+json": {
              "type": "string"
            }
          },
          "metadata": {},
          "execution_count": 8
        }
      ]
    },
    {
      "cell_type": "markdown",
      "source": [
        "For printing the lower case of the given string"
      ],
      "metadata": {
        "id": "T2blVBML_IV0"
      }
    },
    {
      "cell_type": "code",
      "source": [
        "str.isupper()"
      ],
      "metadata": {
        "colab": {
          "base_uri": "https://localhost:8080/"
        },
        "id": "bu2WMZnO-10b",
        "outputId": "39a45dc8-34ce-4e96-dc54-562e15cd784d"
      },
      "execution_count": null,
      "outputs": [
        {
          "output_type": "execute_result",
          "data": {
            "text/plain": [
              "False"
            ]
          },
          "metadata": {},
          "execution_count": 9
        }
      ]
    },
    {
      "cell_type": "markdown",
      "source": [
        "To check whether the given string is in upper case"
      ],
      "metadata": {
        "id": "E3XkTigz-3E8"
      }
    },
    {
      "cell_type": "code",
      "source": [
        "str.islower()"
      ],
      "metadata": {
        "colab": {
          "base_uri": "https://localhost:8080/"
        },
        "id": "Qq-_T7BHAl6P",
        "outputId": "7413ca3f-8518-423a-fbc7-bf62b2aba782"
      },
      "execution_count": null,
      "outputs": [
        {
          "output_type": "execute_result",
          "data": {
            "text/plain": [
              "True"
            ]
          },
          "metadata": {},
          "execution_count": 10
        }
      ]
    },
    {
      "cell_type": "markdown",
      "source": [
        "To check whether the given string is in lower case"
      ],
      "metadata": {
        "id": "qzH4h3GhA1Hv"
      }
    },
    {
      "cell_type": "code",
      "source": [
        "str.count(\"l\")"
      ],
      "metadata": {
        "colab": {
          "base_uri": "https://localhost:8080/"
        },
        "id": "wt1UCgxlA8Zl",
        "outputId": "4c22afd4-e30f-4fe5-f8ac-c0da9fcbf6a9"
      },
      "execution_count": null,
      "outputs": [
        {
          "output_type": "execute_result",
          "data": {
            "text/plain": [
              "3"
            ]
          },
          "metadata": {},
          "execution_count": 21
        }
      ]
    },
    {
      "cell_type": "code",
      "source": [
        "str.count(\"l\",1,4)"
      ],
      "metadata": {
        "colab": {
          "base_uri": "https://localhost:8080/"
        },
        "id": "0kwvVkJJMxHd",
        "outputId": "1e2c55a7-4145-4b74-f6f9-ed6f754c1819"
      },
      "execution_count": null,
      "outputs": [
        {
          "output_type": "execute_result",
          "data": {
            "text/plain": [
              "2"
            ]
          },
          "metadata": {},
          "execution_count": 59
        }
      ]
    },
    {
      "cell_type": "code",
      "source": [
        "str.count(\"l\",4,10)"
      ],
      "metadata": {
        "colab": {
          "base_uri": "https://localhost:8080/"
        },
        "id": "nF2pB8UzM-0X",
        "outputId": "923ca52d-a7a4-4445-ef3e-84780a3fbc58"
      },
      "execution_count": null,
      "outputs": [
        {
          "output_type": "execute_result",
          "data": {
            "text/plain": [
              "1"
            ]
          },
          "metadata": {},
          "execution_count": 60
        }
      ]
    },
    {
      "cell_type": "markdown",
      "source": [
        "to find the count of the given character (or in a sepcified index range)"
      ],
      "metadata": {
        "id": "fLe-X6mNGHIP"
      }
    },
    {
      "cell_type": "code",
      "source": [
        "str.find(\"world\")"
      ],
      "metadata": {
        "colab": {
          "base_uri": "https://localhost:8080/"
        },
        "id": "qwKGdFNPLMG8",
        "outputId": "768dedde-b610-4729-82eb-eeda6814fad2"
      },
      "execution_count": null,
      "outputs": [
        {
          "output_type": "execute_result",
          "data": {
            "text/plain": [
              "6"
            ]
          },
          "metadata": {},
          "execution_count": 54
        }
      ]
    },
    {
      "cell_type": "code",
      "source": [
        "str"
      ],
      "metadata": {
        "colab": {
          "base_uri": "https://localhost:8080/",
          "height": 36
        },
        "id": "g8_9zJE2MUz2",
        "outputId": "0716ecb7-6829-4f25-c9da-6d88ff2afc50"
      },
      "execution_count": null,
      "outputs": [
        {
          "output_type": "execute_result",
          "data": {
            "text/plain": [
              "'hello world'"
            ],
            "application/vnd.google.colaboratory.intrinsic+json": {
              "type": "string"
            }
          },
          "metadata": {},
          "execution_count": 58
        }
      ]
    },
    {
      "cell_type": "code",
      "source": [],
      "metadata": {
        "id": "TFgDBQPjMvim"
      },
      "execution_count": null,
      "outputs": []
    },
    {
      "cell_type": "code",
      "source": [
        "str.index(\"w\")"
      ],
      "metadata": {
        "colab": {
          "base_uri": "https://localhost:8080/"
        },
        "id": "O-QhnEbQBSPU",
        "outputId": "1d518711-0ba8-4311-9c48-497b33b37056"
      },
      "execution_count": null,
      "outputs": [
        {
          "output_type": "execute_result",
          "data": {
            "text/plain": [
              "6"
            ]
          },
          "metadata": {},
          "execution_count": 22
        }
      ]
    },
    {
      "cell_type": "markdown",
      "source": [
        "to find the index of the given character"
      ],
      "metadata": {
        "id": "tOozziXCF2gh"
      }
    },
    {
      "cell_type": "code",
      "source": [
        "str.isalnum()"
      ],
      "metadata": {
        "colab": {
          "base_uri": "https://localhost:8080/"
        },
        "id": "VpgaA8DeBeKk",
        "outputId": "363c5334-344a-4bd1-c63b-459472e92365"
      },
      "execution_count": null,
      "outputs": [
        {
          "output_type": "execute_result",
          "data": {
            "text/plain": [
              "False"
            ]
          },
          "metadata": {},
          "execution_count": 23
        }
      ]
    },
    {
      "cell_type": "markdown",
      "source": [
        "To check whether the given string is alpha numeric"
      ],
      "metadata": {
        "id": "-kGarnGOFXLv"
      }
    },
    {
      "cell_type": "code",
      "source": [
        "str1=\"hello\""
      ],
      "metadata": {
        "id": "0WQipBWDCXjH"
      },
      "execution_count": null,
      "outputs": []
    },
    {
      "cell_type": "code",
      "source": [
        "str1.isalpha()"
      ],
      "metadata": {
        "colab": {
          "base_uri": "https://localhost:8080/"
        },
        "id": "F-eGVCstBh_q",
        "outputId": "75525fac-2f7e-4ab2-fb3d-cc1d754adfb4"
      },
      "execution_count": null,
      "outputs": [
        {
          "output_type": "execute_result",
          "data": {
            "text/plain": [
              "False"
            ]
          },
          "metadata": {},
          "execution_count": 30
        }
      ]
    },
    {
      "cell_type": "markdown",
      "source": [
        "To check whether all the characters in the string are alphabets"
      ],
      "metadata": {
        "id": "FUkic5MiFpyq"
      }
    },
    {
      "cell_type": "code",
      "source": [
        "str.isdigit()"
      ],
      "metadata": {
        "colab": {
          "base_uri": "https://localhost:8080/"
        },
        "id": "FqBrOkhDBpeo",
        "outputId": "b9ccd2fe-b108-4f8a-d65e-19572339059a"
      },
      "execution_count": null,
      "outputs": [
        {
          "output_type": "execute_result",
          "data": {
            "text/plain": [
              "False"
            ]
          },
          "metadata": {},
          "execution_count": 17
        }
      ]
    },
    {
      "cell_type": "markdown",
      "source": [
        "To check whether all the characters in the string are digits"
      ],
      "metadata": {
        "id": "z0lmP5oiGRaI"
      }
    },
    {
      "cell_type": "code",
      "source": [
        "str.isspace()"
      ],
      "metadata": {
        "colab": {
          "base_uri": "https://localhost:8080/"
        },
        "id": "bs7SN5IfBu3r",
        "outputId": "65d9a3ec-beb8-45e7-ed3d-ba82e07702bc"
      },
      "execution_count": null,
      "outputs": [
        {
          "output_type": "execute_result",
          "data": {
            "text/plain": [
              "False"
            ]
          },
          "metadata": {},
          "execution_count": 18
        }
      ]
    },
    {
      "cell_type": "markdown",
      "source": [
        "To check whether all the characters in the string are white spaces"
      ],
      "metadata": {
        "id": "Q2RD97qLGWj7"
      }
    },
    {
      "cell_type": "code",
      "source": [
        "str.istitle()"
      ],
      "metadata": {
        "colab": {
          "base_uri": "https://localhost:8080/"
        },
        "id": "KoXkN3yLBzEs",
        "outputId": "9989833f-ccb6-4288-d065-b7085e8676a6"
      },
      "execution_count": null,
      "outputs": [
        {
          "output_type": "execute_result",
          "data": {
            "text/plain": [
              "False"
            ]
          },
          "metadata": {},
          "execution_count": 19
        }
      ]
    },
    {
      "cell_type": "markdown",
      "source": [
        "To check whether the string is title cased. eg:This Is Berk."
      ],
      "metadata": {
        "id": "RGqcYfh5Gj-z"
      }
    },
    {
      "cell_type": "code",
      "source": [
        "str3=\"ooooooooooooooooohelloooooooooooooooooooo\"\n",
        "str3.strip(\"o\")\n",
        "str.strip()"
      ],
      "metadata": {
        "colab": {
          "base_uri": "https://localhost:8080/",
          "height": 36
        },
        "id": "j-HbmwTEB3gp",
        "outputId": "24c6c635-6053-4462-eff0-c12b1e1d6b6d"
      },
      "execution_count": null,
      "outputs": [
        {
          "output_type": "execute_result",
          "data": {
            "text/plain": [
              "'hello world'"
            ],
            "application/vnd.google.colaboratory.intrinsic+json": {
              "type": "string"
            }
          },
          "metadata": {},
          "execution_count": 48
        }
      ]
    },
    {
      "cell_type": "markdown",
      "source": [
        "removing the trailing character"
      ],
      "metadata": {
        "id": "t6ZB6cuYE8w8"
      }
    },
    {
      "cell_type": "code",
      "source": [
        "str.partition(\"l\")"
      ],
      "metadata": {
        "colab": {
          "base_uri": "https://localhost:8080/"
        },
        "id": "2Chlm7yQCFUI",
        "outputId": "3219b909-d231-4d6c-e04b-16eb0bc62aad"
      },
      "execution_count": null,
      "outputs": [
        {
          "output_type": "execute_result",
          "data": {
            "text/plain": [
              "('he', 'l', 'lo world')"
            ]
          },
          "metadata": {},
          "execution_count": 35
        }
      ]
    },
    {
      "cell_type": "markdown",
      "source": [
        "split the string at the first occurrence of sep there by returning a tuple along with sep and values after."
      ],
      "metadata": {
        "id": "c_c3ir1cG35q"
      }
    },
    {
      "cell_type": "code",
      "source": [
        "str.split(\"r\")"
      ],
      "metadata": {
        "colab": {
          "base_uri": "https://localhost:8080/"
        },
        "id": "UbeeW8H4CyBl",
        "outputId": "62868a80-3fe2-4113-df7c-f4e1f4c4e3ec"
      },
      "execution_count": null,
      "outputs": [
        {
          "output_type": "execute_result",
          "data": {
            "text/plain": [
              "['hello wo', 'ld']"
            ]
          },
          "metadata": {},
          "execution_count": 46
        }
      ]
    },
    {
      "cell_type": "markdown",
      "source": [
        "returns a list of words from string using sep as delimiter string"
      ],
      "metadata": {
        "id": "AFif2unrHS7o"
      }
    },
    {
      "cell_type": "code",
      "source": [
        "str.swapcase()"
      ],
      "metadata": {
        "colab": {
          "base_uri": "https://localhost:8080/",
          "height": 36
        },
        "id": "aYDcCDgnC8IG",
        "outputId": "9a00d61e-d437-4cc9-e071-bb48b3c1b794"
      },
      "execution_count": null,
      "outputs": [
        {
          "output_type": "execute_result",
          "data": {
            "text/plain": [
              "'HELLO WORLD'"
            ],
            "application/vnd.google.colaboratory.intrinsic+json": {
              "type": "string"
            }
          },
          "metadata": {},
          "execution_count": 38
        }
      ]
    },
    {
      "cell_type": "markdown",
      "source": [
        "to swap the cases in the string"
      ],
      "metadata": {
        "id": "nzOcJmoQExPr"
      }
    },
    {
      "cell_type": "code",
      "source": [
        "t=\"*\"\n",
        "t.join(str)"
      ],
      "metadata": {
        "colab": {
          "base_uri": "https://localhost:8080/",
          "height": 36
        },
        "id": "Ca0IqmmGDDFo",
        "outputId": "7ea8a128-9a3a-4389-940d-da2fd812029a"
      },
      "execution_count": null,
      "outputs": [
        {
          "output_type": "execute_result",
          "data": {
            "text/plain": [
              "'h*e*l*l*o* *w*o*r*l*d'"
            ],
            "application/vnd.google.colaboratory.intrinsic+json": {
              "type": "string"
            }
          },
          "metadata": {},
          "execution_count": 40
        }
      ]
    },
    {
      "cell_type": "markdown",
      "source": [
        "to join a separator to string -eg:*"
      ],
      "metadata": {
        "id": "wIaCwOl0EYLq"
      }
    },
    {
      "cell_type": "code",
      "source": [
        "str.replace(\"l\",\"y\")\n",
        "str.replace(\"world\",\"kitty\")"
      ],
      "metadata": {
        "colab": {
          "base_uri": "https://localhost:8080/",
          "height": 36
        },
        "id": "kHeyE8HKDLNm",
        "outputId": "23947038-deab-49bf-adfc-5b9970f82be1"
      },
      "execution_count": null,
      "outputs": [
        {
          "output_type": "execute_result",
          "data": {
            "text/plain": [
              "'hello kitty'"
            ],
            "application/vnd.google.colaboratory.intrinsic+json": {
              "type": "string"
            }
          },
          "metadata": {},
          "execution_count": 47
        }
      ]
    },
    {
      "cell_type": "markdown",
      "source": [
        "To replace a letter/word with a given letter/word"
      ],
      "metadata": {
        "id": "kN6sztHSD4Cr"
      }
    },
    {
      "cell_type": "code",
      "source": [
        "str"
      ],
      "metadata": {
        "colab": {
          "base_uri": "https://localhost:8080/",
          "height": 36
        },
        "id": "RjIJTfLmD1u0",
        "outputId": "67717d24-50ae-40cc-e2b4-080cb5ea8306"
      },
      "execution_count": null,
      "outputs": [
        {
          "output_type": "execute_result",
          "data": {
            "text/plain": [
              "'hello world'"
            ],
            "application/vnd.google.colaboratory.intrinsic+json": {
              "type": "string"
            }
          },
          "metadata": {},
          "execution_count": 55
        }
      ]
    },
    {
      "cell_type": "code",
      "source": [
        "str[1]"
      ],
      "metadata": {
        "colab": {
          "base_uri": "https://localhost:8080/",
          "height": 36
        },
        "id": "R9SFuslUMM2F",
        "outputId": "6affdd7e-6a9f-4351-aebd-18a665d02e36"
      },
      "execution_count": null,
      "outputs": [
        {
          "output_type": "execute_result",
          "data": {
            "text/plain": [
              "'e'"
            ],
            "application/vnd.google.colaboratory.intrinsic+json": {
              "type": "string"
            }
          },
          "metadata": {},
          "execution_count": 56
        }
      ]
    },
    {
      "cell_type": "code",
      "source": [],
      "metadata": {
        "id": "SASRQ1bdMOZk"
      },
      "execution_count": null,
      "outputs": []
    }
  ]
}