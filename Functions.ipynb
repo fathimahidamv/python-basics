{
  "nbformat": 4,
  "nbformat_minor": 0,
  "metadata": {
    "colab": {
      "provenance": [],
      "authorship_tag": "ABX9TyMFbUZ+KKOApOQxi7Fibf2+",
      "include_colab_link": true
    },
    "kernelspec": {
      "name": "python3",
      "display_name": "Python 3"
    },
    "language_info": {
      "name": "python"
    }
  },
  "cells": [
    {
      "cell_type": "markdown",
      "metadata": {
        "id": "view-in-github",
        "colab_type": "text"
      },
      "source": [
        "<a href=\"https://colab.research.google.com/github/fathimahidamv/python-basics/blob/main/Functions.ipynb\" target=\"_parent\"><img src=\"https://colab.research.google.com/assets/colab-badge.svg\" alt=\"Open In Colab\"/></a>"
      ]
    },
    {
      "cell_type": "code",
      "execution_count": null,
      "metadata": {
        "id": "0AZFIYuL5vbT"
      },
      "outputs": [],
      "source": [
        "def sum():\n",
        "  a=10\n",
        "  b=15\n",
        "  c=a+b\n",
        "  print(c)\n",
        "sum()  #execcutes the code inside the sum() function only when the function is called\n"
      ]
    },
    {
      "cell_type": "code",
      "source": [
        "def sum(a,b):  #parameterised\n",
        "\n",
        "  c=a+b\n",
        "  print(c)\n",
        "\n",
        "sum(20,30)\n"
      ],
      "metadata": {
        "colab": {
          "base_uri": "https://localhost:8080/"
        },
        "id": "iD4_2T6-58lH",
        "outputId": "b636ab78-57ee-4c0a-aea7-c786035a4141"
      },
      "execution_count": null,
      "outputs": [
        {
          "output_type": "stream",
          "name": "stdout",
          "text": [
            "50\n"
          ]
        }
      ]
    },
    {
      "cell_type": "code",
      "source": [
        "#factorial\n",
        "def factorial(a):\n",
        "  fact=1\n",
        "  for i in range(1,a+1):\n",
        "    fact=fact*i\n",
        "  print(\"Factorial of the given number is : \",fact)\n",
        "\n",
        "factorial(10)"
      ],
      "metadata": {
        "colab": {
          "base_uri": "https://localhost:8080/"
        },
        "id": "la9zEdf16qX0",
        "outputId": "39e9508c-7a7e-43d7-88a7-7a7ba10e47ef"
      },
      "execution_count": null,
      "outputs": [
        {
          "output_type": "stream",
          "name": "stdout",
          "text": [
            "Factorial of the given number is :  3628800\n"
          ]
        }
      ]
    },
    {
      "cell_type": "code",
      "source": [
        "#fibonacci\n",
        "def fibonacci(a):\n",
        "  x=0\n",
        "  y=1\n",
        "  print(y)\n",
        "  for i in range(0,a+1):\n",
        "    c=x+y\n",
        "    print(c)\n",
        "    x=y\n",
        "    y=c\n",
        "fibonacci(20)\n"
      ],
      "metadata": {
        "colab": {
          "base_uri": "https://localhost:8080/"
        },
        "id": "8faCOBSI7474",
        "outputId": "f090200e-fcaa-4365-a832-97cc415891ad"
      },
      "execution_count": null,
      "outputs": [
        {
          "output_type": "stream",
          "name": "stdout",
          "text": [
            "1\n",
            "1\n",
            "2\n",
            "3\n",
            "5\n",
            "8\n",
            "13\n",
            "21\n",
            "34\n",
            "55\n",
            "89\n",
            "144\n",
            "233\n",
            "377\n",
            "610\n",
            "987\n",
            "1597\n",
            "2584\n",
            "4181\n",
            "6765\n",
            "10946\n",
            "17711\n"
          ]
        }
      ]
    },
    {
      "cell_type": "code",
      "source": [
        "def area(side):     #value after the calculation is returned to a variable (for later use)\n",
        "  ar=side*side\n",
        "  print(ar)\n",
        "  return(ar)\n",
        "z=area(5)\n",
        "a=2+z\n",
        "print(a)"
      ],
      "metadata": {
        "colab": {
          "base_uri": "https://localhost:8080/"
        },
        "id": "etEAhdIi9t4I",
        "outputId": "3d836810-d46f-4a57-dfff-983755bdb761"
      },
      "execution_count": null,
      "outputs": [
        {
          "output_type": "stream",
          "name": "stdout",
          "text": [
            "25\n",
            "27\n"
          ]
        }
      ]
    },
    {
      "cell_type": "code",
      "source": [
        "#operations using function\n",
        "\n",
        "def add(a,b):\n",
        "  c=a+b\n",
        "  print(\"sum : \",c)\n",
        "def sub(a,b):\n",
        "  d=a-b\n",
        "  print(\"difference : \",d)\n",
        "def mul(a,b):\n",
        "  e=a*b\n",
        "  print(\"product : \",e)\n",
        "def div(a,b):\n",
        "  f=a/b\n",
        "  print(\"division : \",f)\n",
        "add(10,20)\n",
        "sub(20,10)\n",
        "mul(10,20)\n",
        "div(200,10)"
      ],
      "metadata": {
        "colab": {
          "base_uri": "https://localhost:8080/"
        },
        "id": "kjWSGV-Y_rl8",
        "outputId": "3d5636d1-5a06-4a3d-e4a9-df2dfbcc2a15"
      },
      "execution_count": null,
      "outputs": [
        {
          "output_type": "stream",
          "name": "stdout",
          "text": [
            "sum :  30\n",
            "difference :  10\n",
            "product :  200\n",
            "division :  20.0\n"
          ]
        }
      ]
    },
    {
      "cell_type": "code",
      "source": [
        "def add(a,b):\n",
        "  c=a+b\n",
        "  print(\"sum : \",c)"
      ],
      "metadata": {
        "id": "Ek5GsIf7kiRl"
      },
      "execution_count": null,
      "outputs": []
    },
    {
      "cell_type": "code",
      "source": [
        "#or\n",
        "def oper(a,b):\n",
        "  c=a+b\n",
        "  d=a-b\n",
        "  e=a/b\n",
        "  f=a*b\n",
        "  print(\"sum is : \",c,\n",
        "        \" difference is : \",d,\n",
        "        \" product is : \",f,\n",
        "        \" division is : \",e)\n",
        "oper(20,10)\n",
        "\n"
      ],
      "metadata": {
        "colab": {
          "base_uri": "https://localhost:8080/"
        },
        "id": "-xCSbOpvaIX1",
        "outputId": "75e241a7-16a6-4d6a-b361-88a395f63c23"
      },
      "execution_count": null,
      "outputs": [
        {
          "output_type": "stream",
          "name": "stdout",
          "text": [
            "sum is :  30  difference is :  10  product is :  200  division is :  2.0\n"
          ]
        }
      ]
    },
    {
      "cell_type": "code",
      "source": [
        "#prime or not\n",
        "def prime(a):\n",
        "  x=0\n",
        "  for i in range(1,a):\n",
        "    if a%i==0:\n",
        "      x=x+1\n",
        "  if x>1:\n",
        "    print(a,\" is not a prime number\")\n",
        "  else:\n",
        "    print(a,\"is a prime number\")\n",
        "\n",
        "prime(25)\n",
        "\n",
        "\n"
      ],
      "metadata": {
        "colab": {
          "base_uri": "https://localhost:8080/"
        },
        "id": "m6S5UiJ8BSi0",
        "outputId": "518e1298-0edd-424f-99d7-f47275ac2020"
      },
      "execution_count": null,
      "outputs": [
        {
          "output_type": "stream",
          "name": "stdout",
          "text": [
            "25  is not a prime number\n"
          ]
        }
      ]
    },
    {
      "cell_type": "code",
      "source": [
        "#   LAMBDA FUNCTION\n",
        "x=lambda a:a+10\n",
        "print(x(5))"
      ],
      "metadata": {
        "id": "qdT0etsiKWtZ",
        "colab": {
          "base_uri": "https://localhost:8080/"
        },
        "outputId": "97bd882e-6939-4ff3-ea9c-76285d67225f"
      },
      "execution_count": null,
      "outputs": [
        {
          "output_type": "stream",
          "name": "stdout",
          "text": [
            "15\n"
          ]
        }
      ]
    },
    {
      "cell_type": "code",
      "source": [
        "x=lambda a,b :a+b\n",
        "print(x(2,5))"
      ],
      "metadata": {
        "colab": {
          "base_uri": "https://localhost:8080/"
        },
        "id": "3wPy6flnKPfc",
        "outputId": "b8d5bd7d-1257-4fd3-9f98-6bb95084fbc7"
      },
      "execution_count": null,
      "outputs": [
        {
          "output_type": "stream",
          "name": "stdout",
          "text": [
            "7\n"
          ]
        }
      ]
    },
    {
      "cell_type": "code",
      "source": [
        "x=lambda a,b,c:a+b+c\n",
        "print(x(2,3,4))"
      ],
      "metadata": {
        "colab": {
          "base_uri": "https://localhost:8080/"
        },
        "id": "eA6pUFbwKXVS",
        "outputId": "1915ee67-ad34-4ad7-897a-8582628f2f4d"
      },
      "execution_count": null,
      "outputs": [
        {
          "output_type": "stream",
          "name": "stdout",
          "text": [
            "9\n"
          ]
        }
      ]
    },
    {
      "cell_type": "code",
      "source": [
        "#filter() in lambda()\n",
        "#even num from list                          #\n",
        "l1=[1,2,3,4,5]                               #\n",
        "l2=list(filter(lambda i:(i%2==0),l1))\n",
        "print(l2)\n"
      ],
      "metadata": {
        "colab": {
          "base_uri": "https://localhost:8080/"
        },
        "id": "kpoY2bJtKlOv",
        "outputId": "3d8c327f-37ab-4f85-f89f-6dac1d396a7e"
      },
      "execution_count": null,
      "outputs": [
        {
          "output_type": "stream",
          "name": "stdout",
          "text": [
            "[2, 4]\n"
          ]
        }
      ]
    },
    {
      "cell_type": "code",
      "source": [
        "#map()in lambda()\n",
        "#double the values\n",
        "l1=[1,2,3,4,5]\n",
        "l2=list(map(lambda i:i*2,l1))  #square value - i*i\n",
        "print(l2)"
      ],
      "metadata": {
        "colab": {
          "base_uri": "https://localhost:8080/"
        },
        "id": "8HwaTwr_LbhA",
        "outputId": "274a1cd3-3ee1-476f-f648-6042d63ec008"
      },
      "execution_count": null,
      "outputs": [
        {
          "output_type": "stream",
          "name": "stdout",
          "text": [
            "[1, 4, 9, 16, 25]\n"
          ]
        }
      ]
    },
    {
      "cell_type": "code",
      "source": [
        "#recursion-factorial\n",
        "def factorial(n):\n",
        "  if n==1:\n",
        "    return 1\n",
        "  else:\n",
        "    return n * factorial(n-1)    #num=3   print(factorial(num))  --- it gives factorial of 3\n",
        "print(\"the factorial of is\",factorial(6))\n"
      ],
      "metadata": {
        "colab": {
          "base_uri": "https://localhost:8080/"
        },
        "id": "X635oRXULwml",
        "outputId": "9a6b2641-fa28-4261-e6e9-5a267154e6e8"
      },
      "execution_count": null,
      "outputs": [
        {
          "output_type": "stream",
          "name": "stdout",
          "text": [
            "the factorial of is 720\n"
          ]
        }
      ]
    },
    {
      "cell_type": "code",
      "source": [
        "#recursion -fibonacci\n",
        "def fib(n):\n",
        "  if n<=1:\n",
        "    return n\n",
        "  else:\n",
        "    return (fib(n-1)+fib(n-2))\n",
        "x=10\n",
        "if x<=0:                     #checking the input\n",
        "  print(\"invalid input\")\n",
        "else:\n",
        "  for i in range(x):    #printing the series\n",
        "    print(fib(i))\n",
        "\n",
        "\n"
      ],
      "metadata": {
        "colab": {
          "base_uri": "https://localhost:8080/"
        },
        "id": "lXIzRkyReVNt",
        "outputId": "ad64d304-aa0e-4399-bde2-93255c5b9f2c"
      },
      "execution_count": null,
      "outputs": [
        {
          "output_type": "stream",
          "name": "stdout",
          "text": [
            "0\n",
            "1\n",
            "1\n",
            "2\n",
            "3\n",
            "5\n",
            "8\n",
            "13\n",
            "21\n",
            "34\n"
          ]
        }
      ]
    },
    {
      "cell_type": "code",
      "source": [
        "l1=[1,2,3,4,5,6,7,8,9,10]\n",
        "l2=list(map(lambda x:x*5,l1))\n",
        "print(l2)"
      ],
      "metadata": {
        "id": "uZg3DpLziFKa",
        "colab": {
          "base_uri": "https://localhost:8080/"
        },
        "outputId": "93341c50-2478-48eb-f89e-48448c53908d"
      },
      "execution_count": null,
      "outputs": [
        {
          "output_type": "stream",
          "name": "stdout",
          "text": [
            "[5, 10, 15, 20, 25, 30, 35, 40, 45, 50]\n"
          ]
        }
      ]
    },
    {
      "cell_type": "code",
      "source": [],
      "metadata": {
        "id": "wg26C7DLD0RA"
      },
      "execution_count": null,
      "outputs": []
    }
  ]
}