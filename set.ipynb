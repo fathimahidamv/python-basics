{
  "nbformat": 4,
  "nbformat_minor": 0,
  "metadata": {
    "colab": {
      "provenance": [],
      "authorship_tag": "ABX9TyMoKVuLdW+TS08FQ3QW/A8G",
      "include_colab_link": true
    },
    "kernelspec": {
      "name": "python3",
      "display_name": "Python 3"
    },
    "language_info": {
      "name": "python"
    }
  },
  "cells": [
    {
      "cell_type": "markdown",
      "metadata": {
        "id": "view-in-github",
        "colab_type": "text"
      },
      "source": [
        "<a href=\"https://colab.research.google.com/github/fathimahidamv/python-basics/blob/main/set.ipynb\" target=\"_parent\"><img src=\"https://colab.research.google.com/assets/colab-badge.svg\" alt=\"Open In Colab\"/></a>"
      ]
    },
    {
      "cell_type": "code",
      "execution_count": null,
      "metadata": {
        "colab": {
          "base_uri": "https://localhost:8080/"
        },
        "id": "NY-E7fktgoVd",
        "outputId": "f2b38f36-e56d-40c6-f75d-27ab0ab35a87"
      },
      "outputs": [
        {
          "output_type": "execute_result",
          "data": {
            "text/plain": [
              "{'anu', 'ram', 'ravi'}"
            ]
          },
          "metadata": {},
          "execution_count": 2
        }
      ],
      "source": [
        "s={\"ram\",\"anu\",\"ravi\"}\n",
        "s"
      ]
    },
    {
      "cell_type": "code",
      "source": [
        "#add()\n",
        "s.add(\"sam\")\n",
        "s"
      ],
      "metadata": {
        "colab": {
          "base_uri": "https://localhost:8080/"
        },
        "id": "NWH_rc7JgxFP",
        "outputId": "be25652d-308a-470c-e418-cf35f9754cca"
      },
      "execution_count": null,
      "outputs": [
        {
          "output_type": "execute_result",
          "data": {
            "text/plain": [
              "{'anu', 'ram', 'ravi', 'sam'}"
            ]
          },
          "metadata": {},
          "execution_count": 4
        }
      ]
    },
    {
      "cell_type": "code",
      "source": [
        "#update()\n",
        "s1={\"ram\",\"anu\",\"ravi\"}\n",
        "s2={\"ali\",\"jay\"}\n",
        "s1.update(s2)\n",
        "s1"
      ],
      "metadata": {
        "colab": {
          "base_uri": "https://localhost:8080/"
        },
        "id": "HuAOhVQ8hM6u",
        "outputId": "e1c98584-7f6b-475d-a237-74152574374d"
      },
      "execution_count": null,
      "outputs": [
        {
          "output_type": "execute_result",
          "data": {
            "text/plain": [
              "{'ali', 'anu', 'jay', 'ram', 'ravi'}"
            ]
          },
          "metadata": {},
          "execution_count": 6
        }
      ]
    },
    {
      "cell_type": "code",
      "source": [
        "# update()--set+list\n",
        "s1={\"ram\",\"anu\",\"ravi\"}\n",
        "l1=[\"a\",\"b\"]\n",
        "s1.update(l1)\n",
        "s1"
      ],
      "metadata": {
        "colab": {
          "base_uri": "https://localhost:8080/"
        },
        "id": "sd4nluQvhukF",
        "outputId": "ef0af258-9ba6-4907-e47c-39ebf69b75ed"
      },
      "execution_count": null,
      "outputs": [
        {
          "output_type": "execute_result",
          "data": {
            "text/plain": [
              "{'a', 'anu', 'b', 'ram', 'ravi'}"
            ]
          },
          "metadata": {},
          "execution_count": 7
        }
      ]
    },
    {
      "cell_type": "code",
      "source": [
        "#remove()\n",
        "s1.remove(\"ram\")\n",
        "s1"
      ],
      "metadata": {
        "colab": {
          "base_uri": "https://localhost:8080/"
        },
        "id": "eS31EdpniQU4",
        "outputId": "bac57bd7-b3d0-416a-c62b-c1049d39f1d8"
      },
      "execution_count": null,
      "outputs": [
        {
          "output_type": "execute_result",
          "data": {
            "text/plain": [
              "{'a', 'anu', 'b', 'ravi'}"
            ]
          },
          "metadata": {},
          "execution_count": 8
        }
      ]
    },
    {
      "cell_type": "code",
      "source": [
        "#discard()\n",
        "s1.discard(\"a\")\n",
        "s1"
      ],
      "metadata": {
        "colab": {
          "base_uri": "https://localhost:8080/"
        },
        "id": "rF85Ctndi3jc",
        "outputId": "e6a27a35-083d-466d-d20b-61220691e8b1"
      },
      "execution_count": null,
      "outputs": [
        {
          "output_type": "execute_result",
          "data": {
            "text/plain": [
              "{'anu', 'b', 'ravi'}"
            ]
          },
          "metadata": {},
          "execution_count": 10
        }
      ]
    },
    {
      "cell_type": "code",
      "source": [
        "#pop()\n",
        "s1.pop()"
      ],
      "metadata": {
        "colab": {
          "base_uri": "https://localhost:8080/",
          "height": 36
        },
        "id": "nzSeX5vWjFYp",
        "outputId": "ab18e882-1092-41c7-d8b4-d970f35658bd"
      },
      "execution_count": null,
      "outputs": [
        {
          "output_type": "execute_result",
          "data": {
            "text/plain": [
              "'b'"
            ],
            "application/vnd.google.colaboratory.intrinsic+json": {
              "type": "string"
            }
          },
          "metadata": {},
          "execution_count": 11
        }
      ]
    },
    {
      "cell_type": "code",
      "source": [
        "#union, intersection\n",
        "s1={\"ram\",\"anu\",\"ravi\",\"ali\"}\n",
        "s2={\"ali\",\"jay\"}\n",
        "s1.union(s2)"
      ],
      "metadata": {
        "id": "VX1bsGttjVi7",
        "colab": {
          "base_uri": "https://localhost:8080/"
        },
        "outputId": "a055c20e-9404-4749-c395-def52ae09752"
      },
      "execution_count": null,
      "outputs": [
        {
          "output_type": "execute_result",
          "data": {
            "text/plain": [
              "{'ali', 'anu', 'jay', 'ram', 'ravi'}"
            ]
          },
          "metadata": {},
          "execution_count": 17
        }
      ]
    },
    {
      "cell_type": "code",
      "source": [
        "s1.intersection(s2)"
      ],
      "metadata": {
        "colab": {
          "base_uri": "https://localhost:8080/"
        },
        "id": "LHW5ojdMmFRO",
        "outputId": "d1682fa9-2c73-4401-cc50-73cef5f9578b"
      },
      "execution_count": null,
      "outputs": [
        {
          "output_type": "execute_result",
          "data": {
            "text/plain": [
              "{'ali'}"
            ]
          },
          "metadata": {},
          "execution_count": 18
        }
      ]
    },
    {
      "cell_type": "code",
      "source": [
        "#clear()\n",
        "s1.clear()"
      ],
      "metadata": {
        "id": "EMKy2itimZtM"
      },
      "execution_count": null,
      "outputs": []
    },
    {
      "cell_type": "code",
      "source": [
        "s1"
      ],
      "metadata": {
        "colab": {
          "base_uri": "https://localhost:8080/"
        },
        "id": "f7L1EMWYnBwS",
        "outputId": "01985bcf-35d0-4a82-ef9c-57c480d1d4d8"
      },
      "execution_count": null,
      "outputs": [
        {
          "output_type": "execute_result",
          "data": {
            "text/plain": [
              "set()"
            ]
          },
          "metadata": {},
          "execution_count": 22
        }
      ]
    },
    {
      "cell_type": "code",
      "source": [
        "#copy()\n",
        "s1={\"ram\",\"anu\",\"ravi\",\"ali\"}\n",
        "s1.copy()"
      ],
      "metadata": {
        "colab": {
          "base_uri": "https://localhost:8080/"
        },
        "id": "hCTnxoySnDBJ",
        "outputId": "b28ae859-b8a2-4e79-8285-65642f16ffae"
      },
      "execution_count": null,
      "outputs": [
        {
          "output_type": "execute_result",
          "data": {
            "text/plain": [
              "{'ali', 'anu', 'ram', 'ravi'}"
            ]
          },
          "metadata": {},
          "execution_count": 23
        }
      ]
    },
    {
      "cell_type": "code",
      "source": [
        "#symmetric_difference -- returns a set that contain all the elements except the common elements\n",
        "s1={\"ram\",\"anu\",\"ravi\",\"ali\",True}\n",
        "s2={\"ali\",\"jay\",1,2}\n",
        "s1.symmetric_difference(s2) #true and 1 are considered as same"
      ],
      "metadata": {
        "colab": {
          "base_uri": "https://localhost:8080/"
        },
        "id": "C3P_n6W1n0rz",
        "outputId": "d4695f27-1a33-4b63-8c2e-a3215e3385c6"
      },
      "execution_count": null,
      "outputs": [
        {
          "output_type": "execute_result",
          "data": {
            "text/plain": [
              "{2, 'anu', 'jay', 'ram', 'ravi'}"
            ]
          },
          "metadata": {},
          "execution_count": 26
        }
      ]
    },
    {
      "cell_type": "code",
      "source": [
        "#symmetric_difference_update --\n",
        "s1={\"ram\",\"anu\",\"ravi\",\"ali\",True}\n",
        "s2={\"ali\",\"jay\",1,2}\n",
        "s1.symmetric_difference_update(s2)\n"
      ],
      "metadata": {
        "id": "xhjr4f44o769"
      },
      "execution_count": null,
      "outputs": []
    },
    {
      "cell_type": "code",
      "source": [],
      "metadata": {
        "id": "Urqox5n4p-OR"
      },
      "execution_count": null,
      "outputs": []
    }
  ]
}