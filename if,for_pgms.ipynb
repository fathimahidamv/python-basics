{
  "nbformat": 4,
  "nbformat_minor": 0,
  "metadata": {
    "colab": {
      "provenance": [],
      "authorship_tag": "ABX9TyPl7aZdrwQzIuacqrXtFVMw",
      "include_colab_link": true
    },
    "kernelspec": {
      "name": "python3",
      "display_name": "Python 3"
    },
    "language_info": {
      "name": "python"
    }
  },
  "cells": [
    {
      "cell_type": "markdown",
      "metadata": {
        "id": "view-in-github",
        "colab_type": "text"
      },
      "source": [
        "<a href=\"https://colab.research.google.com/github/fathimahidamv/python-basics/blob/main/if%2Cfor_pgms.ipynb\" target=\"_parent\"><img src=\"https://colab.research.google.com/assets/colab-badge.svg\" alt=\"Open In Colab\"/></a>"
      ]
    },
    {
      "cell_type": "code",
      "execution_count": null,
      "metadata": {
        "id": "KhH942rccLfg",
        "colab": {
          "base_uri": "https://localhost:8080/"
        },
        "outputId": "81d30c26-16ca-44ed-8c6e-8b74ab84a16b"
      },
      "outputs": [
        {
          "output_type": "stream",
          "name": "stdout",
          "text": [
            "Enter your choice : paper\n",
            "computer's choice :  paper\n",
            "Draw\n"
          ]
        }
      ],
      "source": [
        "#stone paper scissor\n",
        "import random\n",
        "data=[\"stone\",\"paper\",\"scissor\"]\n",
        "computer= random.choice(data)\n",
        "user=(input(\"Enter your choice : \"))\n",
        "print(\"computer's choice : \",computer)\n",
        "if computer==\"stone\" and user==\"paper\":\n",
        "  print(\"user wins\")\n",
        "elif computer==\"stone\" and user==\"scissor\":\n",
        "  print(\"computer wins\")\n",
        "elif computer==\"paper\" and user==\"scissor\":\n",
        "  print(\"user wins\")\n",
        "elif computer==\"paper\" and user==\"stone\":\n",
        "  print(\"computer wins\")\n",
        "elif computer==\"scissor\" and user==\"stone\":\n",
        "  print(\"user wins\")\n",
        "elif computer==\"scissor\" and user==\"paper\":\n",
        "  print(\"computer wins\")\n",
        "elif user==computer:\n",
        "  print(\"Draw\")\n"
      ]
    },
    {
      "cell_type": "code",
      "source": [
        "#multiplication table\n",
        "val=int(input(\"Enter the value : \"))\n",
        "count=int(input(\"Enter the count value : \"))\n",
        "for i in range(1,count+1):\n",
        "  tab=val*i\n",
        "  print(val,'*',i,'=',tab)\n",
        "\n"
      ],
      "metadata": {
        "colab": {
          "base_uri": "https://localhost:8080/"
        },
        "id": "Xsku25PDyLgx",
        "outputId": "5363959c-9d83-434b-bb2e-048ed3df1fc2"
      },
      "execution_count": null,
      "outputs": [
        {
          "output_type": "stream",
          "name": "stdout",
          "text": [
            "Enter the value : 2\n",
            "Enter the count value : 5\n",
            "2 * 1 = 2\n",
            "2 * 2 = 4\n",
            "2 * 3 = 6\n",
            "2 * 4 = 8\n",
            "2 * 5 = 10\n"
          ]
        }
      ]
    },
    {
      "cell_type": "code",
      "source": [
        "#prime or not\n",
        "x=0\n",
        "num=int(input(\"Enter a num  : \"))\n",
        "for i in range(1,num):\n",
        "  if num%i==0:\n",
        "    x=x+1\n",
        "if x>1:\n",
        "  print(num,\"is not a prime number\")\n",
        "else:\n",
        "  print(num,\"is a prime number\")\n"
      ],
      "metadata": {
        "colab": {
          "base_uri": "https://localhost:8080/"
        },
        "id": "kNdO3VjO24db",
        "outputId": "9a87294f-717c-4487-adfd-e327a16757ef"
      },
      "execution_count": null,
      "outputs": [
        {
          "output_type": "stream",
          "name": "stdout",
          "text": [
            "Enter a num  : 397\n",
            "397 is a prime number\n"
          ]
        }
      ]
    },
    {
      "cell_type": "code",
      "source": [
        "#cube\n",
        "cube=0\n",
        "a=(input(\"Enter a number : \"))\n",
        "for i in a:\n",
        "  z=int(i)\n",
        "  cube=(z*z*z)+cube\n",
        "print(\"The cube value is : \",str(cube))\n",
        "if a==str(cube):\n",
        "  print(\"The value is same\")\n",
        "else:\n",
        "  print(\"The value is not same\")"
      ],
      "metadata": {
        "colab": {
          "base_uri": "https://localhost:8080/"
        },
        "id": "58v8g0Rt6nIM",
        "outputId": "ed0dd5f3-4c15-45e3-f401-a6a256d3368e"
      },
      "execution_count": null,
      "outputs": [
        {
          "output_type": "stream",
          "name": "stdout",
          "text": [
            "Enter a number : 5\n",
            "The cube value is :  125\n",
            "The value is not same\n"
          ]
        }
      ]
    },
    {
      "cell_type": "code",
      "source": [
        "#unique elements in a list\n",
        "L1=['a','b','c','d','a']\n",
        "L2=[]\n",
        "#S1=set(L1)\n",
        "for i in L1:\n",
        "  c=L1.count(i)\n",
        "  if c==1:\n",
        "    L2.append(i)\n",
        "print(L2)\n"
      ],
      "metadata": {
        "id": "JQTmUIpuA3TB",
        "colab": {
          "base_uri": "https://localhost:8080/"
        },
        "outputId": "21f47732-e752-4e03-9bf0-0ec0308188b3"
      },
      "execution_count": null,
      "outputs": [
        {
          "output_type": "stream",
          "name": "stdout",
          "text": [
            "['b', 'c', 'd']\n"
          ]
        }
      ]
    },
    {
      "cell_type": "code",
      "source": [
        "#common elements in a list\n",
        "L1=['a','b','c','d','a']\n",
        "L2=[]\n",
        "for i in L1:\n",
        "  c=L1.count(i)\n",
        "  if c>1:\n",
        "    L2.append(i)\n",
        "print(L2)"
      ],
      "metadata": {
        "colab": {
          "base_uri": "https://localhost:8080/"
        },
        "id": "ZMbcXbPlq_hQ",
        "outputId": "d98c498c-7936-41fa-d0f9-ccf013800ca4"
      },
      "execution_count": null,
      "outputs": [
        {
          "output_type": "stream",
          "name": "stdout",
          "text": [
            "['a', 'a']\n"
          ]
        }
      ]
    },
    {
      "cell_type": "code",
      "source": [
        "#circle,square,recctangle\n",
        "\n",
        "print(\"press 1 for circle\")\n",
        "print(\"press 2 for square\")\n",
        "print(\"press 3 for rectangle\")\n",
        "choice=int(input(\"Enter your choice :\"))\n",
        "if choice==1:\n",
        "  print(\"circle\")\n",
        "  r=int(input(\"Enter the radius : \"))\n",
        "  print(\"press 1 for area\")\n",
        "  print(\"press 2 for circumference\")\n",
        "  ch=int(input(\"Enter your choice : \"))\n",
        "  if ch==1:\n",
        "    area=3.14*r*r\n",
        "    print(\"area of circle : \",area)\n",
        "  elif ch==2:\n",
        "    circumference=2*3.14*r\n",
        "    print(\"circumference of circle : \",circumference)\n",
        "\n",
        "if choice==2:\n",
        "  print(\"square\")\n",
        "  s=int(input(\"Enter the side : \"))\n",
        "  print(\"press 1 for area\")\n",
        "  print(\"press 2 for perimeter\")\n",
        "  ch=int(input(\"Enter your choice : \"))\n",
        "  if ch==1:\n",
        "    area=s*s\n",
        "    print(\"area of square : \",area)\n",
        "  elif ch==2:\n",
        "    perimeter=4*s\n",
        "    print(\"perimeter of square : \",perimeter)\n",
        "\n",
        "if choice==3:\n",
        "  print(\"rectangle\")\n",
        "  if choice==2:\n",
        "    print(\"square\")\n",
        "  l=int(input(\"Enter the length : \"))\n",
        "  b=int(input(\"Enter the breadth : \"))\n",
        "  print(\"press 1 for area\")\n",
        "  print(\"press 2 for perimeter\")\n",
        "  ch=int(input(\"Enter your choice : \"))\n",
        "  if ch==1:\n",
        "    area=l*b\n",
        "    print(\"area of rectangle : \",area)\n",
        "  elif ch==2:\n",
        "    perimeter=2*(l+b)\n",
        "    print(\"perimeter of rectangle : \",perimeter)"
      ],
      "metadata": {
        "colab": {
          "base_uri": "https://localhost:8080/"
        },
        "id": "DA1N_Bpfw1EL",
        "outputId": "cd89f761-ea24-4bab-c1d1-678a57e07757"
      },
      "execution_count": null,
      "outputs": [
        {
          "output_type": "stream",
          "name": "stdout",
          "text": [
            "press 1 for circle\n",
            "press 2 for square\n",
            "press 3 for rectangle\n",
            "Enter your choice :3\n",
            "rectangle\n",
            "Enter the length : 2\n",
            "Enter the breadth : 4\n",
            "press 1 for area\n",
            "press 2 for perimeter\n",
            "Enter your choice : 1\n",
            "area of rectangle :  8\n"
          ]
        }
      ]
    },
    {
      "cell_type": "code",
      "source": [],
      "metadata": {
        "id": "cYEMbBFG1ZGg"
      },
      "execution_count": null,
      "outputs": []
    }
  ]
}